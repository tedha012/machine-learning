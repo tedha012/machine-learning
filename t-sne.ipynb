{
 "cells": [
  {
   "cell_type": "code",
   "execution_count": 3,
   "id": "a8c5b382",
   "metadata": {},
   "outputs": [],
   "source": [
    "import pandas as pd\n",
    "import numpy as np\n",
    "from sklearn.datasets import load_iris\n",
    "from sklearn.manifold import TSNE"
   ]
  },
  {
   "cell_type": "code",
   "execution_count": 4,
   "id": "7b20ac94",
   "metadata": {},
   "outputs": [],
   "source": [
    "import matplotlib.pyplot as plt\n",
    "plt.rcParams['font.family'] = 'Malgun Gothic'\n",
    "plt.rcParams['axes.unicode_minus'] = False"
   ]
  },
  {
   "cell_type": "code",
   "execution_count": 5,
   "id": "6ad6eff1",
   "metadata": {},
   "outputs": [],
   "source": [
    "iris = load_iris()"
   ]
  },
  {
   "cell_type": "code",
   "execution_count": 6,
   "id": "9c514396",
   "metadata": {},
   "outputs": [
    {
     "data": {
      "text/html": [
       "<div>\n",
       "<style scoped>\n",
       "    .dataframe tbody tr th:only-of-type {\n",
       "        vertical-align: middle;\n",
       "    }\n",
       "\n",
       "    .dataframe tbody tr th {\n",
       "        vertical-align: top;\n",
       "    }\n",
       "\n",
       "    .dataframe thead th {\n",
       "        text-align: right;\n",
       "    }\n",
       "</style>\n",
       "<table border=\"1\" class=\"dataframe\">\n",
       "  <thead>\n",
       "    <tr style=\"text-align: right;\">\n",
       "      <th></th>\n",
       "      <th>sepal length (cm)</th>\n",
       "      <th>sepal width (cm)</th>\n",
       "      <th>petal length (cm)</th>\n",
       "      <th>petal width (cm)</th>\n",
       "    </tr>\n",
       "  </thead>\n",
       "  <tbody>\n",
       "    <tr>\n",
       "      <th>0</th>\n",
       "      <td>5.1</td>\n",
       "      <td>3.5</td>\n",
       "      <td>1.4</td>\n",
       "      <td>0.2</td>\n",
       "    </tr>\n",
       "    <tr>\n",
       "      <th>1</th>\n",
       "      <td>4.9</td>\n",
       "      <td>3.0</td>\n",
       "      <td>1.4</td>\n",
       "      <td>0.2</td>\n",
       "    </tr>\n",
       "    <tr>\n",
       "      <th>2</th>\n",
       "      <td>4.7</td>\n",
       "      <td>3.2</td>\n",
       "      <td>1.3</td>\n",
       "      <td>0.2</td>\n",
       "    </tr>\n",
       "    <tr>\n",
       "      <th>3</th>\n",
       "      <td>4.6</td>\n",
       "      <td>3.1</td>\n",
       "      <td>1.5</td>\n",
       "      <td>0.2</td>\n",
       "    </tr>\n",
       "    <tr>\n",
       "      <th>4</th>\n",
       "      <td>5.0</td>\n",
       "      <td>3.6</td>\n",
       "      <td>1.4</td>\n",
       "      <td>0.2</td>\n",
       "    </tr>\n",
       "    <tr>\n",
       "      <th>...</th>\n",
       "      <td>...</td>\n",
       "      <td>...</td>\n",
       "      <td>...</td>\n",
       "      <td>...</td>\n",
       "    </tr>\n",
       "    <tr>\n",
       "      <th>145</th>\n",
       "      <td>6.7</td>\n",
       "      <td>3.0</td>\n",
       "      <td>5.2</td>\n",
       "      <td>2.3</td>\n",
       "    </tr>\n",
       "    <tr>\n",
       "      <th>146</th>\n",
       "      <td>6.3</td>\n",
       "      <td>2.5</td>\n",
       "      <td>5.0</td>\n",
       "      <td>1.9</td>\n",
       "    </tr>\n",
       "    <tr>\n",
       "      <th>147</th>\n",
       "      <td>6.5</td>\n",
       "      <td>3.0</td>\n",
       "      <td>5.2</td>\n",
       "      <td>2.0</td>\n",
       "    </tr>\n",
       "    <tr>\n",
       "      <th>148</th>\n",
       "      <td>6.2</td>\n",
       "      <td>3.4</td>\n",
       "      <td>5.4</td>\n",
       "      <td>2.3</td>\n",
       "    </tr>\n",
       "    <tr>\n",
       "      <th>149</th>\n",
       "      <td>5.9</td>\n",
       "      <td>3.0</td>\n",
       "      <td>5.1</td>\n",
       "      <td>1.8</td>\n",
       "    </tr>\n",
       "  </tbody>\n",
       "</table>\n",
       "<p>150 rows × 4 columns</p>\n",
       "</div>"
      ],
      "text/plain": [
       "     sepal length (cm)  sepal width (cm)  petal length (cm)  petal width (cm)\n",
       "0                  5.1               3.5                1.4               0.2\n",
       "1                  4.9               3.0                1.4               0.2\n",
       "2                  4.7               3.2                1.3               0.2\n",
       "3                  4.6               3.1                1.5               0.2\n",
       "4                  5.0               3.6                1.4               0.2\n",
       "..                 ...               ...                ...               ...\n",
       "145                6.7               3.0                5.2               2.3\n",
       "146                6.3               2.5                5.0               1.9\n",
       "147                6.5               3.0                5.2               2.0\n",
       "148                6.2               3.4                5.4               2.3\n",
       "149                5.9               3.0                5.1               1.8\n",
       "\n",
       "[150 rows x 4 columns]"
      ]
     },
     "execution_count": 6,
     "metadata": {},
     "output_type": "execute_result"
    }
   ],
   "source": [
    "df = pd.DataFrame(data = iris.data, columns=iris.feature_names)\n",
    "df"
   ]
  },
  {
   "cell_type": "code",
   "execution_count": 7,
   "id": "1ec909d4",
   "metadata": {},
   "outputs": [
    {
     "name": "stderr",
     "output_type": "stream",
     "text": [
      "c:\\Users\\user\\AppData\\Local\\Programs\\Python\\Python310\\lib\\site-packages\\sklearn\\manifold\\_t_sne.py:800: FutureWarning: The default initialization in TSNE will change from 'random' to 'pca' in 1.2.\n",
      "  warnings.warn(\n",
      "c:\\Users\\user\\AppData\\Local\\Programs\\Python\\Python310\\lib\\site-packages\\sklearn\\manifold\\_t_sne.py:810: FutureWarning: The default learning rate in TSNE will change from 200.0 to 'auto' in 1.2.\n",
      "  warnings.warn(\n"
     ]
    }
   ],
   "source": [
    "tsne = TSNE(n_components=2).fit_transform(df)"
   ]
  },
  {
   "cell_type": "code",
   "execution_count": 8,
   "id": "c48a6f42",
   "metadata": {},
   "outputs": [
    {
     "data": {
      "text/plain": [
       "array([[  7.895596 ,  23.409967 ],\n",
       "       [  8.72404  ,  20.988623 ],\n",
       "       [  7.949569 ,  20.676804 ],\n",
       "       [  7.8525662,  20.456347 ],\n",
       "       [  7.5368843,  23.464115 ],\n",
       "       [  8.373934 ,  25.528059 ],\n",
       "       [  7.2129917,  20.914907 ],\n",
       "       [  8.067007 ,  22.681677 ],\n",
       "       [  8.221611 ,  19.69763  ],\n",
       "       [  8.387899 ,  21.35592  ],\n",
       "       [  8.108128 ,  24.977055 ],\n",
       "       [  7.527599 ,  21.984554 ],\n",
       "       [  8.555346 ,  20.633017 ],\n",
       "       [  7.894542 ,  19.382158 ],\n",
       "       [  7.483249 ,  26.231304 ],\n",
       "       [  7.812718 ,  26.423647 ],\n",
       "       [  7.6438403,  25.494226 ],\n",
       "       [  8.102236 ,  23.45658  ],\n",
       "       [  8.408885 ,  25.862259 ],\n",
       "       [  7.7267575,  24.491804 ],\n",
       "       [  9.03365  ,  24.329363 ],\n",
       "       [  8.100178 ,  24.23925  ],\n",
       "       [  9.853593 ,  20.703566 ],\n",
       "       [  9.318418 ,  23.069986 ],\n",
       "       [  6.9375196,  21.96544  ],\n",
       "       [  8.914236 ,  21.392889 ],\n",
       "       [  8.8164   ,  22.936142 ],\n",
       "       [  8.254386 ,  23.808714 ],\n",
       "       [  8.328691 ,  23.413464 ],\n",
       "       [  7.6133313,  21.172937 ],\n",
       "       [  8.029092 ,  21.21483  ],\n",
       "       [  8.922395 ,  24.181194 ],\n",
       "       [  7.2847943,  25.480814 ],\n",
       "       [  7.559175 ,  26.039198 ],\n",
       "       [  8.385696 ,  21.404343 ],\n",
       "       [  8.792487 ,  21.883013 ],\n",
       "       [  7.182111 ,  24.600466 ],\n",
       "       [  7.2822456,  23.074642 ],\n",
       "       [  7.973754 ,  19.729689 ],\n",
       "       [  8.282203 ,  23.032402 ],\n",
       "       [  7.7451744,  23.058533 ],\n",
       "       [  8.870524 ,  19.305494 ],\n",
       "       [  7.553287 ,  19.923948 ],\n",
       "       [  9.293085 ,  23.394447 ],\n",
       "       [  9.015065 ,  25.099646 ],\n",
       "       [  8.5690975,  20.6535   ],\n",
       "       [  7.7622447,  24.578064 ],\n",
       "       [  7.6483746,  20.525478 ],\n",
       "       [  8.067404 ,  24.70757  ],\n",
       "       [  8.25683  ,  22.319342 ],\n",
       "       [ -8.558164 , -10.653248 ],\n",
       "       [ -7.5763216,  -9.298781 ],\n",
       "       [ -8.245219 , -11.072297 ],\n",
       "       [ -6.7153773,  -4.315416 ],\n",
       "       [ -7.5641775,  -9.840637 ],\n",
       "       [ -6.407483 ,  -6.5061226],\n",
       "       [ -6.887499 ,  -9.607479 ],\n",
       "       [ -7.116431 ,  -2.8530176],\n",
       "       [ -8.037628 ,  -9.788629 ],\n",
       "       [ -6.286033 ,  -4.301292 ],\n",
       "       [ -6.8753424,  -2.9878087],\n",
       "       [ -7.10327  ,  -6.8113556],\n",
       "       [ -8.24988  ,  -4.7996535],\n",
       "       [ -6.7004128,  -8.7379265],\n",
       "       [ -7.747639 ,  -4.331231 ],\n",
       "       [ -8.368458 ,  -9.681765 ],\n",
       "       [ -6.1079164,  -6.641127 ],\n",
       "       [ -7.5715837,  -5.3558817],\n",
       "       [ -5.1189733,  -8.073899 ],\n",
       "       [ -7.2409453,  -4.4827   ],\n",
       "       [ -5.425808 ,  -9.618072 ],\n",
       "       [ -7.813497 ,  -6.2816687],\n",
       "       [ -6.124796 , -11.017408 ],\n",
       "       [ -6.84827  ,  -8.368654 ],\n",
       "       [ -7.929407 ,  -8.548977 ],\n",
       "       [ -8.168796 ,  -9.416515 ],\n",
       "       [ -8.045546 , -10.670638 ],\n",
       "       [ -7.5793343, -11.807144 ],\n",
       "       [ -6.727476 ,  -7.965878 ],\n",
       "       [ -7.758064 ,  -3.8728836],\n",
       "       [ -7.126125 ,  -4.043681 ],\n",
       "       [ -7.2869964,  -3.8236585],\n",
       "       [ -7.5193224,  -5.0721054],\n",
       "       [ -5.1746325, -11.090986 ],\n",
       "       [ -5.811539 ,  -6.215579 ],\n",
       "       [ -6.26313  ,  -8.892066 ],\n",
       "       [ -8.098829 , -10.386232 ],\n",
       "       [ -5.3087587,  -7.903632 ],\n",
       "       [ -6.8160024,  -5.743167 ],\n",
       "       [ -6.7534056,  -4.6178985],\n",
       "       [ -6.2095523,  -5.384377 ],\n",
       "       [ -6.875116 ,  -8.527694 ],\n",
       "       [ -7.415987 ,  -5.0978975],\n",
       "       [ -7.1205025,  -2.9092305],\n",
       "       [ -6.6248336,  -5.3854833],\n",
       "       [ -6.981292 ,  -6.0465612],\n",
       "       [ -6.876408 ,  -5.983207 ],\n",
       "       [ -7.52888  ,  -7.82172  ],\n",
       "       [ -7.290278 ,  -2.761507 ],\n",
       "       [ -7.043365 ,  -5.553649 ],\n",
       "       [ -7.3426394, -16.158312 ],\n",
       "       [ -4.3752265, -10.79563  ],\n",
       "       [ -5.876028 , -16.880453 ],\n",
       "       [ -5.454758 , -13.969216 ],\n",
       "       [ -5.8686147, -15.468165 ],\n",
       "       [ -5.214315 , -18.20799  ],\n",
       "       [ -5.1672244,  -5.0937133],\n",
       "       [ -5.758374 , -17.876514 ],\n",
       "       [ -4.8952646, -15.101898 ],\n",
       "       [ -5.1175103, -16.975191 ],\n",
       "       [ -6.925386 , -13.714949 ],\n",
       "       [ -5.77524  , -13.194344 ],\n",
       "       [ -6.21782  , -15.250063 ],\n",
       "       [ -4.026458 , -10.712579 ],\n",
       "       [ -3.6698117, -11.062519 ],\n",
       "       [ -7.0834155, -14.742911 ],\n",
       "       [ -5.8378468, -14.132088 ],\n",
       "       [ -4.559358 , -17.899094 ],\n",
       "       [ -5.2466345, -18.601583 ],\n",
       "       [ -4.9042425, -11.49338  ],\n",
       "       [ -6.2446237, -16.19199  ],\n",
       "       [ -4.074014 , -10.305405 ],\n",
       "       [ -5.2798967, -18.40665  ],\n",
       "       [ -5.897264 , -11.153498 ],\n",
       "       [ -6.28805  , -15.8658495],\n",
       "       [ -5.901629 , -17.354486 ],\n",
       "       [ -5.850732 , -10.567157 ],\n",
       "       [ -5.562034 , -10.282492 ],\n",
       "       [ -5.628737 , -14.627289 ],\n",
       "       [ -6.1764083, -17.412712 ],\n",
       "       [ -5.7972045, -17.791845 ],\n",
       "       [ -4.5647583, -17.869717 ],\n",
       "       [ -5.7122154, -14.785533 ],\n",
       "       [ -6.155879 , -11.402254 ],\n",
       "       [ -4.833187 , -12.727916 ],\n",
       "       [ -5.2730064, -17.840092 ],\n",
       "       [ -7.4213543, -15.565698 ],\n",
       "       [ -5.877806 , -14.053296 ],\n",
       "       [ -5.4806094,  -9.956135 ],\n",
       "       [ -6.4873905, -15.23443  ],\n",
       "       [ -6.580877 , -15.66322  ],\n",
       "       [ -7.1281443, -14.579328 ],\n",
       "       [ -4.3750124, -10.795038 ],\n",
       "       [ -6.206973 , -16.333073 ],\n",
       "       [ -6.8159184, -16.062822 ],\n",
       "       [ -6.8551793, -14.603872 ],\n",
       "       [ -5.5877733, -11.667838 ],\n",
       "       [ -6.543379 , -13.76986  ],\n",
       "       [ -7.5964603, -15.127136 ],\n",
       "       [ -4.888246 , -10.446981 ]], dtype=float32)"
      ]
     },
     "execution_count": 8,
     "metadata": {},
     "output_type": "execute_result"
    }
   ],
   "source": [
    "tsne"
   ]
  },
  {
   "cell_type": "code",
   "execution_count": 9,
   "id": "12dd78df",
   "metadata": {},
   "outputs": [],
   "source": [
    "tsne_df = pd.DataFrame(tsne, columns=['component0', 'component1'])"
   ]
  },
  {
   "cell_type": "code",
   "execution_count": 10,
   "id": "2591dd42",
   "metadata": {},
   "outputs": [
    {
     "data": {
      "text/html": [
       "<div>\n",
       "<style scoped>\n",
       "    .dataframe tbody tr th:only-of-type {\n",
       "        vertical-align: middle;\n",
       "    }\n",
       "\n",
       "    .dataframe tbody tr th {\n",
       "        vertical-align: top;\n",
       "    }\n",
       "\n",
       "    .dataframe thead th {\n",
       "        text-align: right;\n",
       "    }\n",
       "</style>\n",
       "<table border=\"1\" class=\"dataframe\">\n",
       "  <thead>\n",
       "    <tr style=\"text-align: right;\">\n",
       "      <th></th>\n",
       "      <th>component0</th>\n",
       "      <th>component1</th>\n",
       "    </tr>\n",
       "  </thead>\n",
       "  <tbody>\n",
       "    <tr>\n",
       "      <th>0</th>\n",
       "      <td>7.895596</td>\n",
       "      <td>23.409967</td>\n",
       "    </tr>\n",
       "    <tr>\n",
       "      <th>1</th>\n",
       "      <td>8.724040</td>\n",
       "      <td>20.988623</td>\n",
       "    </tr>\n",
       "    <tr>\n",
       "      <th>2</th>\n",
       "      <td>7.949569</td>\n",
       "      <td>20.676804</td>\n",
       "    </tr>\n",
       "    <tr>\n",
       "      <th>3</th>\n",
       "      <td>7.852566</td>\n",
       "      <td>20.456347</td>\n",
       "    </tr>\n",
       "    <tr>\n",
       "      <th>4</th>\n",
       "      <td>7.536884</td>\n",
       "      <td>23.464115</td>\n",
       "    </tr>\n",
       "    <tr>\n",
       "      <th>...</th>\n",
       "      <td>...</td>\n",
       "      <td>...</td>\n",
       "    </tr>\n",
       "    <tr>\n",
       "      <th>145</th>\n",
       "      <td>-6.855179</td>\n",
       "      <td>-14.603872</td>\n",
       "    </tr>\n",
       "    <tr>\n",
       "      <th>146</th>\n",
       "      <td>-5.587773</td>\n",
       "      <td>-11.667838</td>\n",
       "    </tr>\n",
       "    <tr>\n",
       "      <th>147</th>\n",
       "      <td>-6.543379</td>\n",
       "      <td>-13.769860</td>\n",
       "    </tr>\n",
       "    <tr>\n",
       "      <th>148</th>\n",
       "      <td>-7.596460</td>\n",
       "      <td>-15.127136</td>\n",
       "    </tr>\n",
       "    <tr>\n",
       "      <th>149</th>\n",
       "      <td>-4.888246</td>\n",
       "      <td>-10.446981</td>\n",
       "    </tr>\n",
       "  </tbody>\n",
       "</table>\n",
       "<p>150 rows × 2 columns</p>\n",
       "</div>"
      ],
      "text/plain": [
       "     component0  component1\n",
       "0      7.895596   23.409967\n",
       "1      8.724040   20.988623\n",
       "2      7.949569   20.676804\n",
       "3      7.852566   20.456347\n",
       "4      7.536884   23.464115\n",
       "..          ...         ...\n",
       "145   -6.855179  -14.603872\n",
       "146   -5.587773  -11.667838\n",
       "147   -6.543379  -13.769860\n",
       "148   -7.596460  -15.127136\n",
       "149   -4.888246  -10.446981\n",
       "\n",
       "[150 rows x 2 columns]"
      ]
     },
     "execution_count": 10,
     "metadata": {},
     "output_type": "execute_result"
    }
   ],
   "source": [
    "tsne_df"
   ]
  },
  {
   "cell_type": "markdown",
   "id": "b9a8d7a8",
   "metadata": {},
   "source": [
    "### t-sne 2차원 데이터 시각화"
   ]
  },
  {
   "cell_type": "code",
   "execution_count": 10,
   "id": "f3899f9c",
   "metadata": {},
   "outputs": [],
   "source": [
    "tsne_df['target'] = iris.target"
   ]
  },
  {
   "cell_type": "code",
   "execution_count": 12,
   "id": "b4a1f105",
   "metadata": {},
   "outputs": [],
   "source": [
    "tsne_df_0 = tsne_df[tsne_df['target']==0]\n",
    "tsne_df_1 = tsne_df[tsne_df['target']==1]\n",
    "tsne_df_2 = tsne_df[tsne_df['target']==2]"
   ]
  },
  {
   "cell_type": "code",
   "execution_count": 13,
   "id": "36bb972d",
   "metadata": {},
   "outputs": [
    {
     "data": {
      "image/png": "[encoded data removed]",
      "text/plain": [
       "<Figure size 432x288 with 1 Axes>"
      ]
     },
     "metadata": {
      "needs_background": "light"
     },
     "output_type": "display_data"
    }
   ],
   "source": [
    "plt.scatter(tsne_df_0['component0'], tsne_df_0['component1'],\n",
    "           color='pink', label='setosa')\n",
    "plt.scatter(tsne_df_1['component0'], tsne_df_1['component1'],\n",
    "           color = 'purple', label = 'versicolor')\n",
    "plt.scatter(tsne_df_2['component0'], tsne_df_2['component1'],\n",
    "           color = 'yellow', label = 'virginica')\n",
    "plt.xlabel('component0')\n",
    "plt.ylabel('component1')\n",
    "plt.legend()\n",
    "plt.show()"
   ]
  },
  {
   "cell_type": "markdown",
   "id": "2b87b7d4",
   "metadata": {},
   "source": [
    "### 3차원 t-sne 시각화"
   ]
  },
  {
   "cell_type": "code",
   "execution_count": 22,
   "id": "71c09f5b",
   "metadata": {},
   "outputs": [],
   "source": [
    "# t-sne 모델 불러오기\n",
    "# 학습 + 변환 -> 동시에 \n",
    "# 데이터프레임 변환시킨 데이터 바꾸기\n",
    "# 컬럼명 : component0, component1, component2"
   ]
  },
  {
   "cell_type": "code",
   "execution_count": 23,
   "id": "0cc24ab6",
   "metadata": {},
   "outputs": [
    {
     "name": "stderr",
     "output_type": "stream",
     "text": [
      "C:\\Users\\user\\anaconda3\\lib\\site-packages\\sklearn\\manifold\\_t_sne.py:780: FutureWarning: The default initialization in TSNE will change from 'random' to 'pca' in 1.2.\n",
      "  warnings.warn(\n",
      "C:\\Users\\user\\anaconda3\\lib\\site-packages\\sklearn\\manifold\\_t_sne.py:790: FutureWarning: The default learning rate in TSNE will change from 200.0 to 'auto' in 1.2.\n",
      "  warnings.warn(\n"
     ]
    }
   ],
   "source": [
    "tsne = TSNE(n_components=3).fit_transform(df)\n",
    "tsne_df = pd.DataFrame(tsne, \n",
    "                       columns=['component0', 'component1','component2'])"
   ]
  },
  {
   "cell_type": "code",
   "execution_count": 24,
   "id": "c8f5ba1b",
   "metadata": {},
   "outputs": [],
   "source": [
    "from mpl_toolkits.mplot3d import Axes3D"
   ]
  },
  {
   "cell_type": "code",
   "execution_count": 26,
   "id": "1bc184c0",
   "metadata": {},
   "outputs": [],
   "source": [
    "tsne_df['target'] = iris.target"
   ]
  },
  {
   "cell_type": "code",
   "execution_count": 30,
   "id": "9d3e40ca",
   "metadata": {},
   "outputs": [
    {
     "data": {
      "image/png": "[encoded data removed]",
      "text/plain": [
       "<Figure size 648x432 with 1 Axes>"
      ]
     },
     "metadata": {
      "needs_background": "light"
     },
     "output_type": "display_data"
    }
   ],
   "source": [
    "fig = plt.figure(figsize=(9,6))\n",
    "ax = fig.add_subplot(111, projection='3d')\n",
    "\n",
    "tsne_df_0 = tsne_df[tsne_df['target']==0]\n",
    "tsne_df_1 = tsne_df[tsne_df['target']==1]\n",
    "tsne_df_2 = tsne_df[tsne_df['target']==2]\n",
    "\n",
    "ax.scatter(tsne_df_0['component0'],tsne_df_0['component1'], \n",
    "           tsne_df_0['component2'], color = 'pink', label = 'setosa')\n",
    "ax.scatter(tsne_df_1['component0'],tsne_df_1['component1'], \n",
    "           tsne_df_1['component2'],\n",
    "          color = 'purple', label = 'versicolor')\n",
    "ax.scatter(tsne_df_2['component0'],tsne_df_2['component1'], \n",
    "           tsne_df_2['component2'],\n",
    "          color = 'yellow', label = 'virginia')\n",
    "\n",
    "ax.set_xlabel('component0')\n",
    "ax.set_ylabel('component1')\n",
    "ax.set_zlabel('component2')\n",
    "ax.legend()\n",
    "plt.show()"
   ]
  },
  {
   "cell_type": "code",
   "execution_count": null,
   "id": "51224a0e",
   "metadata": {},
   "outputs": [],
   "source": []
  }
 ],
 "metadata": {
  "kernelspec": {
   "display_name": "Python 3.9.12 ('base')",
   "language": "python",
   "name": "python3"
  },
  "language_info": {
   "codemirror_mode": {
    "name": "ipython",
    "version": 3
   },
   "file_extension": ".py",
   "mimetype": "text/x-python",
   "name": "python",
   "nbconvert_exporter": "python",
   "pygments_lexer": "ipython3",
   "version": "3.9.12"
  },
  "vscode": {
   "interpreter": {
    "hash": "a077222d77dfe082b8f1dd562ad70e458ac2ab76993a0b248ab0476e32e9e8dd"
   }
  }
 },
 "nbformat": 4,
 "nbformat_minor": 5
}
